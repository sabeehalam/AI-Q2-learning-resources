{
 "cells": [
  {
   "cell_type": "markdown",
   "metadata": {},
   "source": [
    "# Car Price Prediction::"
   ]
  },
  {
   "cell_type": "markdown",
   "metadata": {},
   "source": [
    "Download dataset from this link:\n",
    "\n",
    "https://www.kaggle.com/hellbuoy/car-price-prediction"
   ]
  },
  {
   "cell_type": "markdown",
   "metadata": {},
   "source": [
    "# Problem Statement::"
   ]
  },
  {
   "cell_type": "markdown",
   "metadata": {},
   "source": [
    "A Chinese automobile company Geely Auto aspires to enter the US market by setting up their manufacturing unit there and producing cars locally to give competition to their US and European counterparts.\n",
    "\n",
    "They have contracted an automobile consulting company to understand the factors on which the pricing of cars depends. Specifically, they want to understand the factors affecting the pricing of cars in the American market, since those may be very different from the Chinese market. The company wants to know:\n",
    "\n",
    "Which variables are significant in predicting the price of a car\n",
    "How well those variables describe the price of a car\n",
    "Based on various market surveys, the consulting firm has gathered a large data set of different types of cars across the America market.\n",
    "\n",
    "# task::\n",
    "We are required to model the price of cars with the available independent variables. It will be used by the management to understand how exactly the prices vary with the independent variables. They can accordingly manipulate the design of the cars, the business strategy etc. to meet certain price levels. Further, the model will be a good way for management to understand the pricing dynamics of a new market."
   ]
  },
  {
   "cell_type": "markdown",
   "metadata": {},
   "source": [
    "# WORKFLOW ::"
   ]
  },
  {
   "cell_type": "markdown",
   "metadata": {},
   "source": [
    "1.Load Data\n",
    "\n",
    "2.Check Missing Values ( If Exist ; Fill each record with mean of its feature )\n",
    "\n",
    "3.Split into 50% Training(Samples,Labels) , 30% Test(Samples,Labels) and 20% Validation Data(Samples,Labels).\n",
    "\n",
    "4.Model : input Layer (No. of features ), 3 hidden layers including 10,8,6 unit & Output Layer with activation function relu/tanh (check by experiment).\n",
    "\n",
    "5.Compilation Step (Note : Its a Regression problem , select loss , metrics according to it)\n",
    "6.Train the Model with Epochs (100) and validate it\n",
    "\n",
    "7.If the model gets overfit tune your model by changing the units , No. of layers , activation function , epochs , add dropout layer or add Regularizer according to the need .\n",
    "\n",
    "8.Evaluation Step\n",
    "\n",
    "9.Prediction"
   ]
  },
  {
   "cell_type": "code",
   "execution_count": null,
   "metadata": {},
   "outputs": [],
   "source": []
  },
  {
   "cell_type": "code",
   "execution_count": 1,
   "metadata": {},
   "outputs": [
    {
     "name": "stderr",
     "output_type": "stream",
     "text": [
      "Using TensorFlow backend.\n"
     ]
    }
   ],
   "source": [
    "#Imported Libraries\n",
    "import numpy as np\n",
    "import pandas as pd\n",
    "import matplotlib.pyplot as plt\n",
    "import tensorflow as tf\n",
    "from tensorflow.keras import layers,models\n",
    "from sklearn.model_selection import train_test_split, cross_val_score\n",
    "import keras\n",
    "from keras.models import Sequential\n",
    "from keras.layers import Dense, Dropout, Flatten, Conv2D, MaxPooling2D\n",
    "from tensorflow.keras import regularizers"
   ]
  },
  {
   "cell_type": "code",
   "execution_count": 2,
   "metadata": {},
   "outputs": [
    {
     "name": "stdout",
     "output_type": "stream",
     "text": [
      "Tensorflow version:  2.0.0\n"
     ]
    }
   ],
   "source": [
    "print(\"Tensorflow version: \",tf.__version__)"
   ]
  },
  {
   "cell_type": "code",
   "execution_count": 3,
   "metadata": {},
   "outputs": [
    {
     "data": {
      "text/html": [
       "<div>\n",
       "<style scoped>\n",
       "    .dataframe tbody tr th:only-of-type {\n",
       "        vertical-align: middle;\n",
       "    }\n",
       "\n",
       "    .dataframe tbody tr th {\n",
       "        vertical-align: top;\n",
       "    }\n",
       "\n",
       "    .dataframe thead th {\n",
       "        text-align: right;\n",
       "    }\n",
       "</style>\n",
       "<table border=\"1\" class=\"dataframe\">\n",
       "  <thead>\n",
       "    <tr style=\"text-align: right;\">\n",
       "      <th></th>\n",
       "      <th>car_ID</th>\n",
       "      <th>symboling</th>\n",
       "      <th>CarName</th>\n",
       "      <th>fueltype</th>\n",
       "      <th>aspiration</th>\n",
       "      <th>doornumber</th>\n",
       "      <th>carbody</th>\n",
       "      <th>drivewheel</th>\n",
       "      <th>enginelocation</th>\n",
       "      <th>wheelbase</th>\n",
       "      <th>...</th>\n",
       "      <th>enginesize</th>\n",
       "      <th>fuelsystem</th>\n",
       "      <th>boreratio</th>\n",
       "      <th>stroke</th>\n",
       "      <th>compressionratio</th>\n",
       "      <th>horsepower</th>\n",
       "      <th>peakrpm</th>\n",
       "      <th>citympg</th>\n",
       "      <th>highwaympg</th>\n",
       "      <th>price</th>\n",
       "    </tr>\n",
       "  </thead>\n",
       "  <tbody>\n",
       "    <tr>\n",
       "      <th>0</th>\n",
       "      <td>1</td>\n",
       "      <td>3</td>\n",
       "      <td>alfa-romero giulia</td>\n",
       "      <td>gas</td>\n",
       "      <td>std</td>\n",
       "      <td>two</td>\n",
       "      <td>convertible</td>\n",
       "      <td>rwd</td>\n",
       "      <td>front</td>\n",
       "      <td>88.6</td>\n",
       "      <td>...</td>\n",
       "      <td>130</td>\n",
       "      <td>mpfi</td>\n",
       "      <td>3.47</td>\n",
       "      <td>2.68</td>\n",
       "      <td>9.0</td>\n",
       "      <td>111</td>\n",
       "      <td>5000</td>\n",
       "      <td>21</td>\n",
       "      <td>27</td>\n",
       "      <td>13495.0</td>\n",
       "    </tr>\n",
       "    <tr>\n",
       "      <th>1</th>\n",
       "      <td>2</td>\n",
       "      <td>3</td>\n",
       "      <td>alfa-romero stelvio</td>\n",
       "      <td>gas</td>\n",
       "      <td>std</td>\n",
       "      <td>two</td>\n",
       "      <td>convertible</td>\n",
       "      <td>rwd</td>\n",
       "      <td>front</td>\n",
       "      <td>88.6</td>\n",
       "      <td>...</td>\n",
       "      <td>130</td>\n",
       "      <td>mpfi</td>\n",
       "      <td>3.47</td>\n",
       "      <td>2.68</td>\n",
       "      <td>9.0</td>\n",
       "      <td>111</td>\n",
       "      <td>5000</td>\n",
       "      <td>21</td>\n",
       "      <td>27</td>\n",
       "      <td>16500.0</td>\n",
       "    </tr>\n",
       "    <tr>\n",
       "      <th>2</th>\n",
       "      <td>3</td>\n",
       "      <td>1</td>\n",
       "      <td>alfa-romero Quadrifoglio</td>\n",
       "      <td>gas</td>\n",
       "      <td>std</td>\n",
       "      <td>two</td>\n",
       "      <td>hatchback</td>\n",
       "      <td>rwd</td>\n",
       "      <td>front</td>\n",
       "      <td>94.5</td>\n",
       "      <td>...</td>\n",
       "      <td>152</td>\n",
       "      <td>mpfi</td>\n",
       "      <td>2.68</td>\n",
       "      <td>3.47</td>\n",
       "      <td>9.0</td>\n",
       "      <td>154</td>\n",
       "      <td>5000</td>\n",
       "      <td>19</td>\n",
       "      <td>26</td>\n",
       "      <td>16500.0</td>\n",
       "    </tr>\n",
       "    <tr>\n",
       "      <th>3</th>\n",
       "      <td>4</td>\n",
       "      <td>2</td>\n",
       "      <td>audi 100 ls</td>\n",
       "      <td>gas</td>\n",
       "      <td>std</td>\n",
       "      <td>four</td>\n",
       "      <td>sedan</td>\n",
       "      <td>fwd</td>\n",
       "      <td>front</td>\n",
       "      <td>99.8</td>\n",
       "      <td>...</td>\n",
       "      <td>109</td>\n",
       "      <td>mpfi</td>\n",
       "      <td>3.19</td>\n",
       "      <td>3.40</td>\n",
       "      <td>10.0</td>\n",
       "      <td>102</td>\n",
       "      <td>5500</td>\n",
       "      <td>24</td>\n",
       "      <td>30</td>\n",
       "      <td>13950.0</td>\n",
       "    </tr>\n",
       "    <tr>\n",
       "      <th>4</th>\n",
       "      <td>5</td>\n",
       "      <td>2</td>\n",
       "      <td>audi 100ls</td>\n",
       "      <td>gas</td>\n",
       "      <td>std</td>\n",
       "      <td>four</td>\n",
       "      <td>sedan</td>\n",
       "      <td>4wd</td>\n",
       "      <td>front</td>\n",
       "      <td>99.4</td>\n",
       "      <td>...</td>\n",
       "      <td>136</td>\n",
       "      <td>mpfi</td>\n",
       "      <td>3.19</td>\n",
       "      <td>3.40</td>\n",
       "      <td>8.0</td>\n",
       "      <td>115</td>\n",
       "      <td>5500</td>\n",
       "      <td>18</td>\n",
       "      <td>22</td>\n",
       "      <td>17450.0</td>\n",
       "    </tr>\n",
       "  </tbody>\n",
       "</table>\n",
       "<p>5 rows × 26 columns</p>\n",
       "</div>"
      ],
      "text/plain": [
       "   car_ID  symboling                   CarName fueltype aspiration doornumber  \\\n",
       "0       1          3        alfa-romero giulia      gas        std        two   \n",
       "1       2          3       alfa-romero stelvio      gas        std        two   \n",
       "2       3          1  alfa-romero Quadrifoglio      gas        std        two   \n",
       "3       4          2               audi 100 ls      gas        std       four   \n",
       "4       5          2                audi 100ls      gas        std       four   \n",
       "\n",
       "       carbody drivewheel enginelocation  wheelbase  ...  enginesize  \\\n",
       "0  convertible        rwd          front       88.6  ...         130   \n",
       "1  convertible        rwd          front       88.6  ...         130   \n",
       "2    hatchback        rwd          front       94.5  ...         152   \n",
       "3        sedan        fwd          front       99.8  ...         109   \n",
       "4        sedan        4wd          front       99.4  ...         136   \n",
       "\n",
       "   fuelsystem  boreratio  stroke compressionratio horsepower  peakrpm citympg  \\\n",
       "0        mpfi       3.47    2.68              9.0        111     5000      21   \n",
       "1        mpfi       3.47    2.68              9.0        111     5000      21   \n",
       "2        mpfi       2.68    3.47              9.0        154     5000      19   \n",
       "3        mpfi       3.19    3.40             10.0        102     5500      24   \n",
       "4        mpfi       3.19    3.40              8.0        115     5500      18   \n",
       "\n",
       "   highwaympg    price  \n",
       "0          27  13495.0  \n",
       "1          27  16500.0  \n",
       "2          26  16500.0  \n",
       "3          30  13950.0  \n",
       "4          22  17450.0  \n",
       "\n",
       "[5 rows x 26 columns]"
      ]
     },
     "execution_count": 3,
     "metadata": {},
     "output_type": "execute_result"
    }
   ],
   "source": [
    "#Load data and display it\n",
    "link='CarPrice_Assignment.csv'\n",
    "df=pd.read_csv(link)\n",
    "df.head()"
   ]
  },
  {
   "cell_type": "code",
   "execution_count": 4,
   "metadata": {},
   "outputs": [
    {
     "name": "stdout",
     "output_type": "stream",
     "text": [
      "<class 'pandas.core.frame.DataFrame'>\n",
      "RangeIndex: 205 entries, 0 to 204\n",
      "Data columns (total 26 columns):\n",
      " #   Column            Non-Null Count  Dtype  \n",
      "---  ------            --------------  -----  \n",
      " 0   car_ID            205 non-null    int64  \n",
      " 1   symboling         205 non-null    int64  \n",
      " 2   CarName           205 non-null    object \n",
      " 3   fueltype          205 non-null    object \n",
      " 4   aspiration        205 non-null    object \n",
      " 5   doornumber        205 non-null    object \n",
      " 6   carbody           205 non-null    object \n",
      " 7   drivewheel        205 non-null    object \n",
      " 8   enginelocation    205 non-null    object \n",
      " 9   wheelbase         205 non-null    float64\n",
      " 10  carlength         205 non-null    float64\n",
      " 11  carwidth          205 non-null    float64\n",
      " 12  carheight         205 non-null    float64\n",
      " 13  curbweight        205 non-null    int64  \n",
      " 14  enginetype        205 non-null    object \n",
      " 15  cylindernumber    205 non-null    object \n",
      " 16  enginesize        205 non-null    int64  \n",
      " 17  fuelsystem        205 non-null    object \n",
      " 18  boreratio         205 non-null    float64\n",
      " 19  stroke            205 non-null    float64\n",
      " 20  compressionratio  205 non-null    float64\n",
      " 21  horsepower        205 non-null    int64  \n",
      " 22  peakrpm           205 non-null    int64  \n",
      " 23  citympg           205 non-null    int64  \n",
      " 24  highwaympg        205 non-null    int64  \n",
      " 25  price             205 non-null    float64\n",
      "dtypes: float64(8), int64(8), object(10)\n",
      "memory usage: 41.8+ KB\n"
     ]
    }
   ],
   "source": [
    "#Check Data types\n",
    "df.info()"
   ]
  },
  {
   "cell_type": "code",
   "execution_count": 5,
   "metadata": {},
   "outputs": [],
   "source": [
    "#drop useless columns\n",
    "df_1=df.drop('car_ID',axis=1)"
   ]
  },
  {
   "cell_type": "code",
   "execution_count": 6,
   "metadata": {},
   "outputs": [
    {
     "data": {
      "text/html": [
       "<div>\n",
       "<style scoped>\n",
       "    .dataframe tbody tr th:only-of-type {\n",
       "        vertical-align: middle;\n",
       "    }\n",
       "\n",
       "    .dataframe tbody tr th {\n",
       "        vertical-align: top;\n",
       "    }\n",
       "\n",
       "    .dataframe thead th {\n",
       "        text-align: right;\n",
       "    }\n",
       "</style>\n",
       "<table border=\"1\" class=\"dataframe\">\n",
       "  <thead>\n",
       "    <tr style=\"text-align: right;\">\n",
       "      <th></th>\n",
       "      <th>symboling</th>\n",
       "      <th>wheelbase</th>\n",
       "      <th>carlength</th>\n",
       "      <th>carwidth</th>\n",
       "      <th>carheight</th>\n",
       "      <th>curbweight</th>\n",
       "      <th>enginesize</th>\n",
       "      <th>boreratio</th>\n",
       "      <th>stroke</th>\n",
       "      <th>compressionratio</th>\n",
       "      <th>horsepower</th>\n",
       "      <th>peakrpm</th>\n",
       "      <th>citympg</th>\n",
       "      <th>highwaympg</th>\n",
       "      <th>price</th>\n",
       "    </tr>\n",
       "  </thead>\n",
       "  <tbody>\n",
       "    <tr>\n",
       "      <th>count</th>\n",
       "      <td>205.000000</td>\n",
       "      <td>205.000000</td>\n",
       "      <td>205.000000</td>\n",
       "      <td>205.000000</td>\n",
       "      <td>205.000000</td>\n",
       "      <td>205.000000</td>\n",
       "      <td>205.000000</td>\n",
       "      <td>205.000000</td>\n",
       "      <td>205.000000</td>\n",
       "      <td>205.000000</td>\n",
       "      <td>205.000000</td>\n",
       "      <td>205.000000</td>\n",
       "      <td>205.000000</td>\n",
       "      <td>205.000000</td>\n",
       "      <td>205.000000</td>\n",
       "    </tr>\n",
       "    <tr>\n",
       "      <th>mean</th>\n",
       "      <td>0.834146</td>\n",
       "      <td>98.756585</td>\n",
       "      <td>174.049268</td>\n",
       "      <td>65.907805</td>\n",
       "      <td>53.724878</td>\n",
       "      <td>2555.565854</td>\n",
       "      <td>126.907317</td>\n",
       "      <td>3.329756</td>\n",
       "      <td>3.255415</td>\n",
       "      <td>10.142537</td>\n",
       "      <td>104.117073</td>\n",
       "      <td>5125.121951</td>\n",
       "      <td>25.219512</td>\n",
       "      <td>30.751220</td>\n",
       "      <td>13276.710571</td>\n",
       "    </tr>\n",
       "    <tr>\n",
       "      <th>std</th>\n",
       "      <td>1.245307</td>\n",
       "      <td>6.021776</td>\n",
       "      <td>12.337289</td>\n",
       "      <td>2.145204</td>\n",
       "      <td>2.443522</td>\n",
       "      <td>520.680204</td>\n",
       "      <td>41.642693</td>\n",
       "      <td>0.270844</td>\n",
       "      <td>0.313597</td>\n",
       "      <td>3.972040</td>\n",
       "      <td>39.544167</td>\n",
       "      <td>476.985643</td>\n",
       "      <td>6.542142</td>\n",
       "      <td>6.886443</td>\n",
       "      <td>7988.852332</td>\n",
       "    </tr>\n",
       "    <tr>\n",
       "      <th>min</th>\n",
       "      <td>-2.000000</td>\n",
       "      <td>86.600000</td>\n",
       "      <td>141.100000</td>\n",
       "      <td>60.300000</td>\n",
       "      <td>47.800000</td>\n",
       "      <td>1488.000000</td>\n",
       "      <td>61.000000</td>\n",
       "      <td>2.540000</td>\n",
       "      <td>2.070000</td>\n",
       "      <td>7.000000</td>\n",
       "      <td>48.000000</td>\n",
       "      <td>4150.000000</td>\n",
       "      <td>13.000000</td>\n",
       "      <td>16.000000</td>\n",
       "      <td>5118.000000</td>\n",
       "    </tr>\n",
       "    <tr>\n",
       "      <th>25%</th>\n",
       "      <td>0.000000</td>\n",
       "      <td>94.500000</td>\n",
       "      <td>166.300000</td>\n",
       "      <td>64.100000</td>\n",
       "      <td>52.000000</td>\n",
       "      <td>2145.000000</td>\n",
       "      <td>97.000000</td>\n",
       "      <td>3.150000</td>\n",
       "      <td>3.110000</td>\n",
       "      <td>8.600000</td>\n",
       "      <td>70.000000</td>\n",
       "      <td>4800.000000</td>\n",
       "      <td>19.000000</td>\n",
       "      <td>25.000000</td>\n",
       "      <td>7788.000000</td>\n",
       "    </tr>\n",
       "    <tr>\n",
       "      <th>50%</th>\n",
       "      <td>1.000000</td>\n",
       "      <td>97.000000</td>\n",
       "      <td>173.200000</td>\n",
       "      <td>65.500000</td>\n",
       "      <td>54.100000</td>\n",
       "      <td>2414.000000</td>\n",
       "      <td>120.000000</td>\n",
       "      <td>3.310000</td>\n",
       "      <td>3.290000</td>\n",
       "      <td>9.000000</td>\n",
       "      <td>95.000000</td>\n",
       "      <td>5200.000000</td>\n",
       "      <td>24.000000</td>\n",
       "      <td>30.000000</td>\n",
       "      <td>10295.000000</td>\n",
       "    </tr>\n",
       "    <tr>\n",
       "      <th>75%</th>\n",
       "      <td>2.000000</td>\n",
       "      <td>102.400000</td>\n",
       "      <td>183.100000</td>\n",
       "      <td>66.900000</td>\n",
       "      <td>55.500000</td>\n",
       "      <td>2935.000000</td>\n",
       "      <td>141.000000</td>\n",
       "      <td>3.580000</td>\n",
       "      <td>3.410000</td>\n",
       "      <td>9.400000</td>\n",
       "      <td>116.000000</td>\n",
       "      <td>5500.000000</td>\n",
       "      <td>30.000000</td>\n",
       "      <td>34.000000</td>\n",
       "      <td>16503.000000</td>\n",
       "    </tr>\n",
       "    <tr>\n",
       "      <th>max</th>\n",
       "      <td>3.000000</td>\n",
       "      <td>120.900000</td>\n",
       "      <td>208.100000</td>\n",
       "      <td>72.300000</td>\n",
       "      <td>59.800000</td>\n",
       "      <td>4066.000000</td>\n",
       "      <td>326.000000</td>\n",
       "      <td>3.940000</td>\n",
       "      <td>4.170000</td>\n",
       "      <td>23.000000</td>\n",
       "      <td>288.000000</td>\n",
       "      <td>6600.000000</td>\n",
       "      <td>49.000000</td>\n",
       "      <td>54.000000</td>\n",
       "      <td>45400.000000</td>\n",
       "    </tr>\n",
       "  </tbody>\n",
       "</table>\n",
       "</div>"
      ],
      "text/plain": [
       "        symboling   wheelbase   carlength    carwidth   carheight  \\\n",
       "count  205.000000  205.000000  205.000000  205.000000  205.000000   \n",
       "mean     0.834146   98.756585  174.049268   65.907805   53.724878   \n",
       "std      1.245307    6.021776   12.337289    2.145204    2.443522   \n",
       "min     -2.000000   86.600000  141.100000   60.300000   47.800000   \n",
       "25%      0.000000   94.500000  166.300000   64.100000   52.000000   \n",
       "50%      1.000000   97.000000  173.200000   65.500000   54.100000   \n",
       "75%      2.000000  102.400000  183.100000   66.900000   55.500000   \n",
       "max      3.000000  120.900000  208.100000   72.300000   59.800000   \n",
       "\n",
       "        curbweight  enginesize   boreratio      stroke  compressionratio  \\\n",
       "count   205.000000  205.000000  205.000000  205.000000        205.000000   \n",
       "mean   2555.565854  126.907317    3.329756    3.255415         10.142537   \n",
       "std     520.680204   41.642693    0.270844    0.313597          3.972040   \n",
       "min    1488.000000   61.000000    2.540000    2.070000          7.000000   \n",
       "25%    2145.000000   97.000000    3.150000    3.110000          8.600000   \n",
       "50%    2414.000000  120.000000    3.310000    3.290000          9.000000   \n",
       "75%    2935.000000  141.000000    3.580000    3.410000          9.400000   \n",
       "max    4066.000000  326.000000    3.940000    4.170000         23.000000   \n",
       "\n",
       "       horsepower      peakrpm     citympg  highwaympg         price  \n",
       "count  205.000000   205.000000  205.000000  205.000000    205.000000  \n",
       "mean   104.117073  5125.121951   25.219512   30.751220  13276.710571  \n",
       "std     39.544167   476.985643    6.542142    6.886443   7988.852332  \n",
       "min     48.000000  4150.000000   13.000000   16.000000   5118.000000  \n",
       "25%     70.000000  4800.000000   19.000000   25.000000   7788.000000  \n",
       "50%     95.000000  5200.000000   24.000000   30.000000  10295.000000  \n",
       "75%    116.000000  5500.000000   30.000000   34.000000  16503.000000  \n",
       "max    288.000000  6600.000000   49.000000   54.000000  45400.000000  "
      ]
     },
     "execution_count": 6,
     "metadata": {},
     "output_type": "execute_result"
    }
   ],
   "source": [
    "#Check important metrics\n",
    "df_1.describe()"
   ]
  },
  {
   "cell_type": "code",
   "execution_count": 7,
   "metadata": {},
   "outputs": [
    {
     "data": {
      "text/plain": [
       "symboling           0\n",
       "CarName             0\n",
       "fueltype            0\n",
       "aspiration          0\n",
       "doornumber          0\n",
       "carbody             0\n",
       "drivewheel          0\n",
       "enginelocation      0\n",
       "wheelbase           0\n",
       "carlength           0\n",
       "carwidth            0\n",
       "carheight           0\n",
       "curbweight          0\n",
       "enginetype          0\n",
       "cylindernumber      0\n",
       "enginesize          0\n",
       "fuelsystem          0\n",
       "boreratio           0\n",
       "stroke              0\n",
       "compressionratio    0\n",
       "horsepower          0\n",
       "peakrpm             0\n",
       "citympg             0\n",
       "highwaympg          0\n",
       "price               0\n",
       "dtype: int64"
      ]
     },
     "execution_count": 7,
     "metadata": {},
     "output_type": "execute_result"
    }
   ],
   "source": [
    "#Check missing values\n",
    "df_1.isna().sum()"
   ]
  },
  {
   "cell_type": "code",
   "execution_count": 8,
   "metadata": {},
   "outputs": [],
   "source": [
    "df_2 = pd.get_dummies(df_1, columns=['CarName','symboling','fueltype',\t'aspiration',\t'doornumber',\t'carbody',\t'drivewheel',\t'enginelocation',\t'enginetype',\t'cylindernumber',\t'fuelsystem'], drop_first = True)"
   ]
  },
  {
   "cell_type": "code",
   "execution_count": null,
   "metadata": {},
   "outputs": [],
   "source": []
  },
  {
   "cell_type": "code",
   "execution_count": null,
   "metadata": {},
   "outputs": [],
   "source": []
  },
  {
   "cell_type": "code",
   "execution_count": 9,
   "metadata": {},
   "outputs": [
    {
     "data": {
      "text/plain": [
       "(205, 194)"
      ]
     },
     "execution_count": 9,
     "metadata": {},
     "output_type": "execute_result"
    }
   ],
   "source": [
    "df_2.to_numpy()\n",
    "df_2.shape"
   ]
  },
  {
   "cell_type": "code",
   "execution_count": 10,
   "metadata": {},
   "outputs": [],
   "source": [
    "#declare X and y\n",
    "X=df_2.drop('price',axis=1)\n",
    "y=df_2['price']"
   ]
  },
  {
   "cell_type": "code",
   "execution_count": 11,
   "metadata": {},
   "outputs": [],
   "source": [
    "#Split data into train and test sets\n",
    "X_train, X_test, y_train, y_test=train_test_split(X,y,test_size=0.3, random_state=42)\n"
   ]
  },
  {
   "cell_type": "code",
   "execution_count": 12,
   "metadata": {},
   "outputs": [
    {
     "name": "stdout",
     "output_type": "stream",
     "text": [
      "(143, 193)\n",
      "(143,)\n"
     ]
    }
   ],
   "source": [
    "print(X_train.shape)\n",
    "print(y_train.shape)"
   ]
  },
  {
   "cell_type": "code",
   "execution_count": 44,
   "metadata": {},
   "outputs": [],
   "source": [
    "#Define Model\n",
    "model=models.Sequential()\n",
    "model.add(layers.Dense(150, activation= 'relu',input_shape=(X_train.shape[1],)))\n",
    "model.add(layers.Dense(100,activation='relu'))\n",
    "model.add(layers.Dense(60,activation='relu'))\n",
    "model.add(layers.Dense(1))\n",
    "model.compile(optimizer='rmsprop', loss='mse', metrics=['mae'])"
   ]
  },
  {
   "cell_type": "code",
   "execution_count": 45,
   "metadata": {},
   "outputs": [
    {
     "name": "stdout",
     "output_type": "stream",
     "text": [
      "WARNING:tensorflow:Falling back from v2 loop because of error: Failed to find data adapter that can handle input: <class 'pandas.core.frame.DataFrame'>, <class 'NoneType'>\n",
      "Train on 128 samples, validate on 15 samples\n",
      "Epoch 1/100\n",
      "128/128 [==============================] - 0s 3ms/sample - loss: 212599440.0000 - mae: 12614.5195 - val_loss: 364155968.0000 - val_mae: 15831.8223\n",
      "Epoch 2/100\n",
      "128/128 [==============================] - 0s 141us/sample - loss: 180766588.0000 - mae: 11332.0010 - val_loss: 322402272.0000 - val_mae: 14471.4033\n",
      "Epoch 3/100\n",
      "128/128 [==============================] - 0s 219us/sample - loss: 147718506.0000 - mae: 9869.0430 - val_loss: 271226816.0000 - val_mae: 12617.4072\n",
      "Epoch 4/100\n",
      "128/128 [==============================] - 0s 250us/sample - loss: 112383180.0000 - mae: 7915.8164 - val_loss: 220936912.0000 - val_mae: 10493.1582\n",
      "Epoch 5/100\n",
      "128/128 [==============================] - 0s 203us/sample - loss: 81713966.0000 - mae: 6034.2852 - val_loss: 176996128.0000 - val_mae: 8831.0674\n",
      "Epoch 6/100\n",
      "128/128 [==============================] - 0s 219us/sample - loss: 59772602.0000 - mae: 4966.1533 - val_loss: 144780800.0000 - val_mae: 8033.7056\n",
      "Epoch 7/100\n",
      "128/128 [==============================] - 0s 195us/sample - loss: 48753912.0000 - mae: 4814.3320 - val_loss: 128653056.0000 - val_mae: 7678.7285\n",
      "Epoch 8/100\n",
      "128/128 [==============================] - 0s 164us/sample - loss: 44779443.0000 - mae: 4784.9541 - val_loss: 119044488.0000 - val_mae: 7472.9502\n",
      "Epoch 9/100\n",
      "128/128 [==============================] - 0s 164us/sample - loss: 43772033.0000 - mae: 4899.3125 - val_loss: 114292256.0000 - val_mae: 7449.9229\n",
      "Epoch 10/100\n",
      "128/128 [==============================] - 0s 180us/sample - loss: 43393271.0000 - mae: 5007.4961 - val_loss: 117147392.0000 - val_mae: 7363.6143\n",
      "Epoch 11/100\n",
      "128/128 [==============================] - 0s 187us/sample - loss: 43231229.5000 - mae: 4929.9385 - val_loss: 114606856.0000 - val_mae: 7307.1665\n",
      "Epoch 12/100\n",
      "128/128 [==============================] - 0s 180us/sample - loss: 42838935.5000 - mae: 4841.0088 - val_loss: 110926624.0000 - val_mae: 7264.1772\n",
      "Epoch 13/100\n",
      "128/128 [==============================] - 0s 250us/sample - loss: 41279638.0000 - mae: 4838.6646 - val_loss: 109769848.0000 - val_mae: 7192.9106\n",
      "Epoch 14/100\n",
      "128/128 [==============================] - 0s 258us/sample - loss: 41381828.0000 - mae: 4860.1641 - val_loss: 110580112.0000 - val_mae: 7113.0762\n",
      "Epoch 15/100\n",
      "128/128 [==============================] - 0s 148us/sample - loss: 40854202.0000 - mae: 4752.3906 - val_loss: 107237048.0000 - val_mae: 7058.0337\n",
      "Epoch 16/100\n",
      "128/128 [==============================] - 0s 164us/sample - loss: 39958618.0000 - mae: 4773.0220 - val_loss: 107465344.0000 - val_mae: 6983.9771\n",
      "Epoch 17/100\n",
      "128/128 [==============================] - 0s 258us/sample - loss: 39220178.7500 - mae: 4696.5596 - val_loss: 108704768.0000 - val_mae: 6903.9771\n",
      "Epoch 18/100\n",
      "128/128 [==============================] - 0s 180us/sample - loss: 39881231.5000 - mae: 4646.9272 - val_loss: 103217352.0000 - val_mae: 6839.9038\n",
      "Epoch 19/100\n",
      "128/128 [==============================] - 0s 195us/sample - loss: 37433842.5000 - mae: 4590.8433 - val_loss: 103024688.0000 - val_mae: 6760.9575\n",
      "Epoch 20/100\n",
      "128/128 [==============================] - 0s 148us/sample - loss: 36996961.0000 - mae: 4541.4209 - val_loss: 97534352.0000 - val_mae: 6694.4971\n",
      "Epoch 21/100\n",
      "128/128 [==============================] - 0s 180us/sample - loss: 37524639.5000 - mae: 4475.9141 - val_loss: 91724888.0000 - val_mae: 6637.6470\n",
      "Epoch 22/100\n",
      "128/128 [==============================] - 0s 188us/sample - loss: 34977622.0000 - mae: 4528.9673 - val_loss: 98833240.0000 - val_mae: 6516.5615\n",
      "Epoch 23/100\n",
      "128/128 [==============================] - 0s 227us/sample - loss: 35104440.5000 - mae: 4181.3257 - val_loss: 86210776.0000 - val_mae: 6482.8257\n",
      "Epoch 24/100\n",
      "128/128 [==============================] - 0s 188us/sample - loss: 34051075.0000 - mae: 4469.2871 - val_loss: 89362344.0000 - val_mae: 6371.3604\n",
      "Epoch 25/100\n",
      "128/128 [==============================] - 0s 141us/sample - loss: 32977255.0000 - mae: 4335.9575 - val_loss: 91523616.0000 - val_mae: 6253.0713\n",
      "Epoch 26/100\n",
      "128/128 [==============================] - 0s 242us/sample - loss: 33667922.0000 - mae: 4342.3926 - val_loss: 88123856.0000 - val_mae: 6158.8584\n",
      "Epoch 27/100\n",
      "128/128 [==============================] - 0s 156us/sample - loss: 32060540.0000 - mae: 4202.9097 - val_loss: 82181896.0000 - val_mae: 6074.6035\n",
      "Epoch 28/100\n",
      "128/128 [==============================] - 0s 164us/sample - loss: 30909808.5000 - mae: 4080.0244 - val_loss: 75192608.0000 - val_mae: 6086.3618\n",
      "Epoch 29/100\n",
      "128/128 [==============================] - 0s 187us/sample - loss: 30407943.5000 - mae: 4110.5586 - val_loss: 76052312.0000 - val_mae: 5860.0156\n",
      "Epoch 30/100\n",
      "128/128 [==============================] - 0s 172us/sample - loss: 29901841.5000 - mae: 4138.2354 - val_loss: 75521928.0000 - val_mae: 5746.6177\n",
      "Epoch 31/100\n",
      "128/128 [==============================] - 0s 172us/sample - loss: 28269983.0000 - mae: 4075.1482 - val_loss: 83134312.0000 - val_mae: 5615.7925\n",
      "Epoch 32/100\n",
      "128/128 [==============================] - 0s 156us/sample - loss: 27362127.5000 - mae: 3624.6021 - val_loss: 65432176.0000 - val_mae: 5742.4487\n",
      "Epoch 33/100\n",
      "128/128 [==============================] - 0s 211us/sample - loss: 27357285.5000 - mae: 4028.2705 - val_loss: 73093480.0000 - val_mae: 5370.2163\n",
      "Epoch 34/100\n",
      "128/128 [==============================] - 0s 235us/sample - loss: 26236607.7500 - mae: 3695.4277 - val_loss: 66758672.0000 - val_mae: 5235.2559\n",
      "Epoch 35/100\n",
      "128/128 [==============================] - 0s 250us/sample - loss: 25637405.0000 - mae: 3715.6792 - val_loss: 61870276.0000 - val_mae: 5181.1074\n",
      "Epoch 36/100\n",
      "128/128 [==============================] - 0s 156us/sample - loss: 25729599.5000 - mae: 3717.5332 - val_loss: 60916624.0000 - val_mae: 5035.4971\n",
      "Epoch 37/100\n",
      "128/128 [==============================] - 0s 172us/sample - loss: 23888412.5000 - mae: 3519.9126 - val_loss: 54842808.0000 - val_mae: 5395.5322\n",
      "Epoch 38/100\n",
      "128/128 [==============================] - 0s 205us/sample - loss: 24272148.0000 - mae: 3624.3647 - val_loss: 53453184.0000 - val_mae: 5375.5000\n",
      "Epoch 39/100\n",
      "128/128 [==============================] - 0s 252us/sample - loss: 23314861.5000 - mae: 3557.5898 - val_loss: 52167312.0000 - val_mae: 5193.1489\n",
      "Epoch 40/100\n",
      "128/128 [==============================] - 0s 157us/sample - loss: 23376636.5000 - mae: 3641.3901 - val_loss: 55309340.0000 - val_mae: 4616.0269\n",
      "Epoch 41/100\n",
      "128/128 [==============================] - 0s 180us/sample - loss: 22183375.7500 - mae: 3330.7822 - val_loss: 51658396.0000 - val_mae: 4660.7666\n",
      "Epoch 42/100\n",
      "128/128 [==============================] - 0s 203us/sample - loss: 21244222.2500 - mae: 3377.5015 - val_loss: 56610408.0000 - val_mae: 4283.1665\n",
      "Epoch 43/100\n",
      "128/128 [==============================] - 0s 172us/sample - loss: 21152601.0000 - mae: 3191.1841 - val_loss: 51967472.0000 - val_mae: 4296.4229\n",
      "Epoch 44/100\n",
      "128/128 [==============================] - 0s 219us/sample - loss: 22175414.0000 - mae: 3288.3762 - val_loss: 47369284.0000 - val_mae: 4448.9248\n",
      "Epoch 45/100\n",
      "128/128 [==============================] - 0s 156us/sample - loss: 20782874.7500 - mae: 3145.5830 - val_loss: 43793668.0000 - val_mae: 5106.4780\n",
      "Epoch 46/100\n",
      "128/128 [==============================] - 0s 215us/sample - loss: 20487269.2500 - mae: 3379.2432 - val_loss: 47980800.0000 - val_mae: 4120.8228\n",
      "Epoch 47/100\n",
      "128/128 [==============================] - 0s 172us/sample - loss: 21134526.7500 - mae: 3118.6353 - val_loss: 42184024.0000 - val_mae: 4645.4341\n",
      "Epoch 48/100\n",
      "128/128 [==============================] - 0s 359us/sample - loss: 20163562.0000 - mae: 3195.9541 - val_loss: 41491556.0000 - val_mae: 4617.7437\n",
      "Epoch 49/100\n",
      "128/128 [==============================] - 0s 289us/sample - loss: 20375897.0000 - mae: 3163.2522 - val_loss: 40963712.0000 - val_mae: 4614.4067\n",
      "Epoch 50/100\n",
      "128/128 [==============================] - 0s 313us/sample - loss: 18689914.2500 - mae: 3141.1355 - val_loss: 50254464.0000 - val_mae: 4077.9807\n",
      "Epoch 51/100\n"
     ]
    },
    {
     "name": "stdout",
     "output_type": "stream",
     "text": [
      "128/128 [==============================] - 0s 234us/sample - loss: 19724778.5000 - mae: 3018.0483 - val_loss: 39685796.0000 - val_mae: 4354.2764\n",
      "Epoch 52/100\n",
      "128/128 [==============================] - 0s 258us/sample - loss: 19506527.2500 - mae: 3096.8640 - val_loss: 39583668.0000 - val_mae: 4191.6094\n",
      "Epoch 53/100\n",
      "128/128 [==============================] - 0s 203us/sample - loss: 19504457.7500 - mae: 3073.9946 - val_loss: 38395844.0000 - val_mae: 4261.5703\n",
      "Epoch 54/100\n",
      "128/128 [==============================] - 0s 297us/sample - loss: 18449874.0000 - mae: 3013.5886 - val_loss: 39588616.0000 - val_mae: 3948.8760\n",
      "Epoch 55/100\n",
      "128/128 [==============================] - 0s 180us/sample - loss: 19265895.0000 - mae: 3110.4434 - val_loss: 40057508.0000 - val_mae: 3863.5806\n",
      "Epoch 56/100\n",
      "128/128 [==============================] - 0s 320us/sample - loss: 18833795.0000 - mae: 2894.1748 - val_loss: 36532316.0000 - val_mae: 4244.7236\n",
      "Epoch 57/100\n",
      "128/128 [==============================] - 0s 211us/sample - loss: 17984022.7500 - mae: 2950.8733 - val_loss: 38147132.0000 - val_mae: 3877.6736\n",
      "Epoch 58/100\n",
      "128/128 [==============================] - 0s 492us/sample - loss: 20807245.2500 - mae: 3298.9355 - val_loss: 39564964.0000 - val_mae: 3838.4207\n",
      "Epoch 59/100\n",
      "128/128 [==============================] - 0s 227us/sample - loss: 20407942.2500 - mae: 3168.1235 - val_loss: 37750416.0000 - val_mae: 3867.9031\n",
      "Epoch 60/100\n",
      "128/128 [==============================] - 0s 141us/sample - loss: 17943180.0000 - mae: 2827.2520 - val_loss: 35509896.0000 - val_mae: 4466.9331\n",
      "Epoch 61/100\n",
      "128/128 [==============================] - 0s 352us/sample - loss: 19381531.7500 - mae: 3196.2751 - val_loss: 36410344.0000 - val_mae: 3944.0142\n",
      "Epoch 62/100\n",
      "128/128 [==============================] - 0s 156us/sample - loss: 18294304.2500 - mae: 2921.5042 - val_loss: 36636588.0000 - val_mae: 3860.8452\n",
      "Epoch 63/100\n",
      "128/128 [==============================] - 0s 281us/sample - loss: 18938071.7500 - mae: 3165.5959 - val_loss: 42412484.0000 - val_mae: 3961.1741\n",
      "Epoch 64/100\n",
      "128/128 [==============================] - 0s 172us/sample - loss: 18279066.7500 - mae: 2785.9189 - val_loss: 34488752.0000 - val_mae: 4179.1982\n",
      "Epoch 65/100\n",
      "128/128 [==============================] - 0s 328us/sample - loss: 18499460.5000 - mae: 3052.9019 - val_loss: 35464500.0000 - val_mae: 3881.4180\n",
      "Epoch 66/100\n",
      "128/128 [==============================] - 0s 133us/sample - loss: 18347040.5000 - mae: 3004.7043 - val_loss: 35883968.0000 - val_mae: 3838.0776\n",
      "Epoch 67/100\n",
      "128/128 [==============================] - 0s 148us/sample - loss: 18825304.2500 - mae: 2970.4504 - val_loss: 34312408.0000 - val_mae: 4000.8281\n",
      "Epoch 68/100\n",
      "128/128 [==============================] - 0s 231us/sample - loss: 18356590.5000 - mae: 3029.1184 - val_loss: 37776536.0000 - val_mae: 3838.8967\n",
      "Epoch 69/100\n",
      "128/128 [==============================] - 0s 133us/sample - loss: 17567987.7500 - mae: 2729.0513 - val_loss: 34763872.0000 - val_mae: 4636.6519\n",
      "Epoch 70/100\n",
      "128/128 [==============================] - 0s 301us/sample - loss: 19141227.5000 - mae: 3113.9106 - val_loss: 39447108.0000 - val_mae: 3875.5339\n",
      "Epoch 71/100\n",
      "128/128 [==============================] - 0s 305us/sample - loss: 17574113.0000 - mae: 2889.3267 - val_loss: 34558264.0000 - val_mae: 3851.2151\n",
      "Epoch 72/100\n",
      "128/128 [==============================] - 0s 219us/sample - loss: 20735173.7500 - mae: 3166.7295 - val_loss: 35715032.0000 - val_mae: 3804.3782\n",
      "Epoch 73/100\n",
      "128/128 [==============================] - 0s 164us/sample - loss: 17166775.5000 - mae: 2791.8884 - val_loss: 33507154.0000 - val_mae: 4391.7764\n",
      "Epoch 74/100\n",
      "128/128 [==============================] - 0s 141us/sample - loss: 17966709.2500 - mae: 3012.3315 - val_loss: 38155460.0000 - val_mae: 3830.9114\n",
      "Epoch 75/100\n",
      "128/128 [==============================] - 0s 195us/sample - loss: 18541634.2500 - mae: 2965.5200 - val_loss: 35453620.0000 - val_mae: 3798.7578\n",
      "Epoch 76/100\n",
      "128/128 [==============================] - 0s 141us/sample - loss: 18881465.7500 - mae: 2952.9690 - val_loss: 35559548.0000 - val_mae: 3792.7717\n",
      "Epoch 77/100\n",
      "128/128 [==============================] - 0s 187us/sample - loss: 17510636.6250 - mae: 2873.2310 - val_loss: 35069852.0000 - val_mae: 3792.0154\n",
      "Epoch 78/100\n",
      "128/128 [==============================] - 0s 180us/sample - loss: 19340486.7500 - mae: 3027.3723 - val_loss: 38732332.0000 - val_mae: 3855.1912\n",
      "Epoch 79/100\n",
      "128/128 [==============================] - 0s 180us/sample - loss: 18443452.5000 - mae: 3002.5669 - val_loss: 37426816.0000 - val_mae: 3810.9961\n",
      "Epoch 80/100\n",
      "128/128 [==============================] - 0s 156us/sample - loss: 18946099.0000 - mae: 2765.2661 - val_loss: 33542702.0000 - val_mae: 4451.5464\n",
      "Epoch 81/100\n",
      "128/128 [==============================] - 0s 133us/sample - loss: 18943296.2500 - mae: 2976.8689 - val_loss: 33146460.0000 - val_mae: 3941.0422\n",
      "Epoch 82/100\n",
      "128/128 [==============================] - 0s 156us/sample - loss: 18570433.5000 - mae: 2904.9316 - val_loss: 32989180.0000 - val_mae: 4215.2100\n",
      "Epoch 83/100\n",
      "128/128 [==============================] - 0s 180us/sample - loss: 17018288.5000 - mae: 2833.3840 - val_loss: 33038174.0000 - val_mae: 3917.7708\n",
      "Epoch 84/100\n",
      "128/128 [==============================] - 0s 211us/sample - loss: 17337505.2500 - mae: 2934.8528 - val_loss: 36496740.0000 - val_mae: 3801.8447\n",
      "Epoch 85/100\n",
      "128/128 [==============================] - 0s 164us/sample - loss: 18933746.0000 - mae: 2973.8228 - val_loss: 35247608.0000 - val_mae: 3796.2996\n",
      "Epoch 86/100\n",
      "128/128 [==============================] - 0s 234us/sample - loss: 17289510.8750 - mae: 2771.2273 - val_loss: 33643940.0000 - val_mae: 3804.3660\n",
      "Epoch 87/100\n",
      "128/128 [==============================] - 0s 148us/sample - loss: 17994382.5000 - mae: 2905.9463 - val_loss: 34112132.0000 - val_mae: 3787.1211\n",
      "Epoch 88/100\n",
      "128/128 [==============================] - 0s 258us/sample - loss: 18027463.5000 - mae: 2875.4355 - val_loss: 33305148.0000 - val_mae: 3820.5461\n",
      "Epoch 89/100\n",
      "128/128 [==============================] - 0s 203us/sample - loss: 16867513.5000 - mae: 2762.1760 - val_loss: 36939624.0000 - val_mae: 3805.8599\n",
      "Epoch 90/100\n",
      "128/128 [==============================] - 0s 164us/sample - loss: 17129710.0000 - mae: 2693.4451 - val_loss: 34699748.0000 - val_mae: 4740.7573\n",
      "Epoch 91/100\n",
      "128/128 [==============================] - 0s 172us/sample - loss: 19097773.2500 - mae: 3164.1753 - val_loss: 32999764.0000 - val_mae: 3824.9204\n",
      "Epoch 92/100\n",
      "128/128 [==============================] - 0s 156us/sample - loss: 16491967.2500 - mae: 2750.7856 - val_loss: 34459220.0000 - val_mae: 3790.9346\n",
      "Epoch 93/100\n",
      "128/128 [==============================] - 0s 203us/sample - loss: 19492341.0000 - mae: 3042.6113 - val_loss: 33138542.0000 - val_mae: 3799.3118\n",
      "Epoch 94/100\n",
      "128/128 [==============================] - 0s 164us/sample - loss: 16640666.2500 - mae: 2794.5859 - val_loss: 32850610.0000 - val_mae: 3803.3823\n",
      "Epoch 95/100\n",
      "128/128 [==============================] - 0s 259us/sample - loss: 17059117.2500 - mae: 2750.0576 - val_loss: 33016972.0000 - val_mae: 4501.4932\n",
      "Epoch 96/100\n",
      "128/128 [==============================] - 0s 164us/sample - loss: 19093227.0000 - mae: 3186.4795 - val_loss: 36799700.0000 - val_mae: 3805.5249\n",
      "Epoch 97/100\n",
      "128/128 [==============================] - 0s 234us/sample - loss: 16088313.6250 - mae: 2676.2920 - val_loss: 32593228.0000 - val_mae: 4409.0605\n",
      "Epoch 98/100\n",
      "128/128 [==============================] - 0s 164us/sample - loss: 17393093.0000 - mae: 2912.9902 - val_loss: 31663628.0000 - val_mae: 4001.4978\n",
      "Epoch 99/100\n",
      "128/128 [==============================] - 0s 133us/sample - loss: 16943568.0000 - mae: 2803.6333 - val_loss: 32800152.0000 - val_mae: 3787.2625\n",
      "Epoch 100/100\n",
      "128/128 [==============================] - 0s 172us/sample - loss: 17815293.5000 - mae: 2867.3691 - val_loss: 31413944.0000 - val_mae: 4030.2307\n"
     ]
    }
   ],
   "source": [
    "#fit data to model\n",
    "his=model.fit(X_train, y_train,validation_split=0.1,epochs=100)"
   ]
  },
  {
   "cell_type": "code",
   "execution_count": 46,
   "metadata": {},
   "outputs": [
    {
     "name": "stdout",
     "output_type": "stream",
     "text": [
      "WARNING:tensorflow:Falling back from v2 loop because of error: Failed to find data adapter that can handle input: <class 'pandas.core.frame.DataFrame'>, <class 'NoneType'>\n",
      "62/62 [==============================] - 0s 145us/sample - loss: 22718992.1290 - mae: 3153.3188\n"
     ]
    },
    {
     "data": {
      "text/plain": [
       "[22718992.129032258, 3153.3188]"
      ]
     },
     "execution_count": 46,
     "metadata": {},
     "output_type": "execute_result"
    }
   ],
   "source": [
    "#evaluate model\n",
    "model.evaluate(X_test, y_test)"
   ]
  },
  {
   "cell_type": "code",
   "execution_count": 47,
   "metadata": {},
   "outputs": [
    {
     "data": {
      "text/plain": [
       "dict_keys(['loss', 'mae', 'val_loss', 'val_mae'])"
      ]
     },
     "execution_count": 47,
     "metadata": {},
     "output_type": "execute_result"
    }
   ],
   "source": [
    "his.history.keys()"
   ]
  },
  {
   "cell_type": "code",
   "execution_count": 43,
   "metadata": {},
   "outputs": [
    {
     "data": {
      "text/plain": [
       "[<matplotlib.lines.Line2D at 0x17671a16308>]"
      ]
     },
     "execution_count": 43,
     "metadata": {},
     "output_type": "execute_result"
    },
    {
     "data": {
      "image/png": "[encoded data removed]",
      "text/plain": [
       "<Figure size 432x288 with 1 Axes>"
      ]
     },
     "metadata": {
      "needs_background": "light"
     },
     "output_type": "display_data"
    }
   ],
   "source": [
    "valmae=his.history['val_mae']\n",
    "epochs=range(100)\n",
    "plt.plot(epochs,valmae,'b',label='val mae')"
   ]
  },
  {
   "cell_type": "code",
   "execution_count": null,
   "metadata": {},
   "outputs": [],
   "source": []
  },
  {
   "cell_type": "code",
   "execution_count": null,
   "metadata": {},
   "outputs": [],
   "source": []
  },
  {
   "cell_type": "code",
   "execution_count": 37,
   "metadata": {},
   "outputs": [
    {
     "ename": "NameError",
     "evalue": "name 'regularizers' is not defined",
     "output_type": "error",
     "traceback": [
      "\u001b[1;31m---------------------------------------------------------------------------\u001b[0m",
      "\u001b[1;31mNameError\u001b[0m                                 Traceback (most recent call last)",
      "\u001b[1;32m<ipython-input-37-058992ee7ec2>\u001b[0m in \u001b[0;36m<module>\u001b[1;34m\u001b[0m\n\u001b[0;32m      1\u001b[0m \u001b[1;31m#new model regularized due to previous model overfitting\u001b[0m\u001b[1;33m\u001b[0m\u001b[1;33m\u001b[0m\u001b[1;33m\u001b[0m\u001b[0m\n\u001b[0;32m      2\u001b[0m \u001b[0mmodel_1\u001b[0m \u001b[1;33m=\u001b[0m \u001b[0mmodels\u001b[0m\u001b[1;33m.\u001b[0m\u001b[0mSequential\u001b[0m\u001b[1;33m(\u001b[0m\u001b[1;33m)\u001b[0m\u001b[1;33m\u001b[0m\u001b[1;33m\u001b[0m\u001b[0m\n\u001b[1;32m----> 3\u001b[1;33m \u001b[0mmodel_1\u001b[0m\u001b[1;33m.\u001b[0m\u001b[0madd\u001b[0m\u001b[1;33m(\u001b[0m\u001b[0mlayers\u001b[0m\u001b[1;33m.\u001b[0m\u001b[0mDense\u001b[0m\u001b[1;33m(\u001b[0m\u001b[1;36m10\u001b[0m\u001b[1;33m,\u001b[0m \u001b[0mactivation\u001b[0m\u001b[1;33m=\u001b[0m \u001b[1;34m'relu'\u001b[0m\u001b[1;33m,\u001b[0m\u001b[0mkernel_regularizer\u001b[0m\u001b[1;33m=\u001b[0m \u001b[0mregularizers\u001b[0m\u001b[1;33m.\u001b[0m\u001b[0ml1_l2\u001b[0m\u001b[1;33m(\u001b[0m\u001b[0ml1\u001b[0m\u001b[1;33m=\u001b[0m\u001b[1;36m0.001\u001b[0m\u001b[1;33m,\u001b[0m \u001b[0ml2\u001b[0m\u001b[1;33m=\u001b[0m\u001b[1;36m0.001\u001b[0m\u001b[1;33m)\u001b[0m\u001b[1;33m,\u001b[0m\u001b[0minput_shape\u001b[0m\u001b[1;33m=\u001b[0m\u001b[1;33m(\u001b[0m\u001b[0mX_train\u001b[0m\u001b[1;33m.\u001b[0m\u001b[0mshape\u001b[0m\u001b[1;33m[\u001b[0m\u001b[1;36m1\u001b[0m\u001b[1;33m]\u001b[0m\u001b[1;33m,\u001b[0m\u001b[1;33m)\u001b[0m\u001b[1;33m)\u001b[0m\u001b[1;33m)\u001b[0m\u001b[1;33m\u001b[0m\u001b[1;33m\u001b[0m\u001b[0m\n\u001b[0m\u001b[0;32m      4\u001b[0m \u001b[0mmodel_1\u001b[0m\u001b[1;33m.\u001b[0m\u001b[0madd\u001b[0m\u001b[1;33m(\u001b[0m\u001b[0mlayers\u001b[0m\u001b[1;33m.\u001b[0m\u001b[0mDense\u001b[0m\u001b[1;33m(\u001b[0m\u001b[1;36m8\u001b[0m\u001b[1;33m,\u001b[0m \u001b[0mactivation\u001b[0m\u001b[1;33m=\u001b[0m \u001b[1;34m'relu'\u001b[0m\u001b[1;33m,\u001b[0m\u001b[0mkernel_regularizer\u001b[0m\u001b[1;33m=\u001b[0m \u001b[0mregularizers\u001b[0m\u001b[1;33m.\u001b[0m\u001b[0ml1_l2\u001b[0m\u001b[1;33m(\u001b[0m\u001b[0ml1\u001b[0m\u001b[1;33m=\u001b[0m\u001b[1;36m0.001\u001b[0m\u001b[1;33m,\u001b[0m \u001b[0ml2\u001b[0m\u001b[1;33m=\u001b[0m\u001b[1;36m0.001\u001b[0m\u001b[1;33m)\u001b[0m\u001b[1;33m)\u001b[0m\u001b[1;33m)\u001b[0m\u001b[1;33m\u001b[0m\u001b[1;33m\u001b[0m\u001b[0m\n\u001b[0;32m      5\u001b[0m \u001b[0mmodel_1\u001b[0m\u001b[1;33m.\u001b[0m\u001b[0madd\u001b[0m\u001b[1;33m(\u001b[0m\u001b[0mlayers\u001b[0m\u001b[1;33m.\u001b[0m\u001b[0mDense\u001b[0m\u001b[1;33m(\u001b[0m\u001b[1;36m6\u001b[0m\u001b[1;33m,\u001b[0m \u001b[0mactivation\u001b[0m\u001b[1;33m=\u001b[0m \u001b[1;34m'relu'\u001b[0m\u001b[1;33m,\u001b[0m\u001b[0mkernel_regularizer\u001b[0m\u001b[1;33m=\u001b[0m \u001b[0mregularizers\u001b[0m\u001b[1;33m.\u001b[0m\u001b[0ml1_l2\u001b[0m\u001b[1;33m(\u001b[0m\u001b[0ml1\u001b[0m\u001b[1;33m=\u001b[0m\u001b[1;36m0.001\u001b[0m\u001b[1;33m,\u001b[0m \u001b[0ml2\u001b[0m\u001b[1;33m=\u001b[0m\u001b[1;36m0.001\u001b[0m\u001b[1;33m)\u001b[0m\u001b[1;33m)\u001b[0m\u001b[1;33m)\u001b[0m\u001b[1;33m\u001b[0m\u001b[1;33m\u001b[0m\u001b[0m\n",
      "\u001b[1;31mNameError\u001b[0m: name 'regularizers' is not defined"
     ]
    }
   ],
   "source": [
    "\n"
   ]
  },
  {
   "cell_type": "code",
   "execution_count": null,
   "metadata": {},
   "outputs": [],
   "source": []
  }
 ],
 "metadata": {
  "kernelspec": {
   "display_name": "Python 3",
   "language": "python",
   "name": "python3"
  },
  "language_info": {
   "codemirror_mode": {
    "name": "ipython",
    "version": 3
   },
   "file_extension": ".py",
   "mimetype": "text/x-python",
   "name": "python",
   "nbconvert_exporter": "python",
   "pygments_lexer": "ipython3",
   "version": "3.7.9"
  }
 },
 "nbformat": 4,
 "nbformat_minor": 2
}
